{
 "cells": [
  {
   "cell_type": "markdown",
   "metadata": {},
   "source": [
    "## Handout 0: Groups in Python (based on Jeremy Kun's post)\n",
    "\n",
    "This file is an implementation of a particular Ellitpic Curve group\n",
    "used in cryptography, called secp256k1. This happens to be the curve used\n",
    "by Bitcoin and most related cryptocurrencies. We'll also use this as our\n",
    "go-to general purpose discrete-log group in our class.\n",
    "\n",
    "We call an element of this group (i.e., a point on the curve), simply a Point.\n",
    "\n",
    "The order of this group, `p`, is a 256-bit prime number. Furthermore, `p`\n",
    "happens to be extremely close to 2^256. Because of this, we can sample\n",
    "exponents easily by choosing a random 32-byte number, and with high probability,\n",
    "will be within [0,p).\n",
    "   `uint256_from_str(rnd_bytes(32))` is an exponent.\n",
    "\n",
    "Sometimes an exponent will be represented by objects of the python class  Fp,\n",
    "which automatically handles arithmetic modulo p. \n",
    "The underlying 'long' value can be extracted as `p.n` if `type(p) is Fp`."
   ]
  },
  {
   "cell_type": "code",
   "execution_count": null,
   "metadata": {},
   "outputs": [],
   "source": [
    "import sys\n",
    "sys.path += ['elliptic-curves-finite-fields']\n",
    "from finitefield.finitefield import FiniteField\n",
    "from elliptic_generalized import GeneralizedEllipticCurve, Point, Ideal\n",
    "import elliptic\n",
    "import os\n",
    "import random"
   ]
  },
  {
   "cell_type": "markdown",
   "metadata": {},
   "source": [
    "## The the definition of secp256k1, Bitcoin's elliptic curve."
   ]
  },
  {
   "cell_type": "markdown",
   "metadata": {},
   "source": [
    "First define the finite field, Fq"
   ]
  },
  {
   "cell_type": "code",
   "execution_count": null,
   "metadata": {},
   "outputs": [],
   "source": [
    "q = 2**256 - 2**32 - 2**9 - 2**8 - 2**7 - 2**6 - 2**4 - 1\n",
    "Fq = FiniteField(q,1) # elliptic curve over F_q"
   ]
  },
  {
   "cell_type": "markdown",
   "metadata": {},
   "source": [
    "Then define the elliptic curve, always of the form y ** 2 = x ** 3 + {a6}\n",
    "   (Weirerstrass Form)"
   ]
  },
  {
   "cell_type": "code",
   "execution_count": null,
   "metadata": {},
   "outputs": [],
   "source": [
    "curve = GeneralizedEllipticCurve(a6=Fq(7)) # E: y ** 2 = x ** 3 + 7"
   ]
  },
  {
   "cell_type": "markdown",
   "metadata": {},
   "source": [
    "base point, a generator of the group"
   ]
  },
  {
   "cell_type": "code",
   "execution_count": null,
   "metadata": {},
   "outputs": [],
   "source": [
    "Gx = Fq(0x79BE667EF9DCBBAC55A06295CE870B07029BFCDB2DCE28D959F2815B16F81798)\n",
    "Gy = Fq(0x483ADA7726A3C4655DA4FBFC0E1108A8FD17B448A68554199C47D08FFB10D4B8)\n",
    "G = Point(curve, Gx, Gy)"
   ]
  },
  {
   "cell_type": "markdown",
   "metadata": {},
   "source": [
    "This is the order (# of elements in) the curve"
   ]
  },
  {
   "cell_type": "code",
   "execution_count": null,
   "metadata": {},
   "outputs": [],
   "source": [
    "p = order = 0xFFFFFFFFFFFFFFFFFFFFFFFFFFFFFFFEBAAEDCE6AF48A03BBFD25E8CD0364141\n",
    "Fp = FiniteField(p,1)"
   ]
  },
  {
   "cell_type": "markdown",
   "metadata": {},
   "source": [
    "Get the identity element"
   ]
  },
  {
   "cell_type": "code",
   "execution_count": null,
   "metadata": {},
   "outputs": [],
   "source": [
    "identity = Ideal(curve)"
   ]
  },
  {
   "cell_type": "markdown",
   "metadata": {},
   "source": [
    "## Serialize and deserialize 32-byte (256-bit) numbers\n",
    "\n",
    "Since the underlying field, `Fq`, is 32 bytes, we can represent each point\n",
    "as a 32-byte X coordinate and 32-byte Y coordinate. The following routines\n",
    "serialize/deserialize such 32-byte numbers to strings."
   ]
  },
  {
   "cell_type": "code",
   "execution_count": null,
   "metadata": {},
   "outputs": [],
   "source": [
    "import struct\n",
    "def uint256_from_str(s):\n",
    "    \"\"\"Convert bytes to uint256\"\"\"\n",
    "    r = 0\n",
    "    t = struct.unpack(b\"<IIIIIIII\", s[:32])\n",
    "    for i in range(8):\n",
    "        r += t[i] << (i * 32)\n",
    "    return r\n",
    "\n",
    "def uint256_to_str(s):\n",
    "    \"\"\"Convert bytes to uint256\"\"\"\n",
    "    assert 0 <= s < 2**256\n",
    "    t = []\n",
    "    for i in range(8):\n",
    "        t.append((s >> (i * 32) & 0xffffffff))\n",
    "    s = struct.pack(b\"<IIIIIIII\", *t)\n",
    "    return s"
   ]
  },
  {
   "cell_type": "markdown",
   "metadata": {},
   "source": [
    "## Compute Square Roots\n",
    "\n",
    "This easy sqrt works for this curve, not necessarily all curves\n",
    "https://en.wikipedia.org/wiki/Quadratic_residue#Prime_or_prime_power_modulus\n",
    "\n",
    "There is not always a solution in this `Fq` (for around half the values)"
   ]
  },
  {
   "cell_type": "code",
   "execution_count": null,
   "metadata": {},
   "outputs": [],
   "source": [
    "def sqrt(a):\n",
    "    # q: modulus of the underlying finitefield\n",
    "    assert type(a) is Fq\n",
    "\n",
    "    assert (q - 1) % 2 == 0 and (q+1)%4 == 0\n",
    "    legendre = a ** ((q-1)//2)\n",
    "    if legendre == Fq(-1): raise ValueError # no solution\n",
    "    else: return a ** ((q+1)//4)"
   ]
  },
  {
   "cell_type": "markdown",
   "metadata": {},
   "source": [
    "## Solve for y given x, making use of the efficient square root above\n",
    "\n",
    "Because of the fact `y**2 = (-y)**2`, for every x value in the field, there are\n",
    "generally two curve points with that x coordinate (corresponding to the points\n",
    "(x,y) and (-y,x)), where we can solve for y efficiently as `sqrt(x**3 + 7)`."
   ]
  },
  {
   "cell_type": "code",
   "execution_count": null,
   "metadata": {},
   "outputs": [],
   "source": [
    "def solve(x):\n",
    "    # Solve for y, given x\n",
    "    # There are two possible points that satisfy the curve,\n",
    "    # an even and an odd. We choose the odd one.\n",
    "    assert type(x) is Fq\n",
    "    y = sqrt(x**3 + 7)\n",
    "    assert y*y == x**3 + 7\n",
    "    if y.n % 2 == 0: y = -y\n",
    "    if not curve.testPoint(x, y): raise ValueError\n",
    "    return Point(curve, x, y)"
   ]
  },
  {
   "cell_type": "markdown",
   "metadata": {},
   "source": [
    "## Serialize and deserialize elliptic curve points\n",
    "\n",
    "Because we have an easy way to solve for `y` given `x`, (more specifically,\n",
    "a canonical version of two possible points with the same `x`), we can \n",
    "represent any pont as the `x` coordinate, and a byte indicating whether\n",
    "`y` is even or odd."
   ]
  },
  {
   "cell_type": "code",
   "execution_count": null,
   "metadata": {},
   "outputs": [],
   "source": [
    "def ser(point):\n",
    "    # Returns a 33-byte string\n",
    "    assert curve.testPoint(point.x, point.y)\n",
    "    s = '0'\n",
    "    sign = int(point.y.n % 2 == 0)\n",
    "    s += str(sign)\n",
    "    s += uint256_to_str(point.x.n).hex()\n",
    "    assert len(s) == 66 and type(s) == str\n",
    "    return s\n",
    "\n",
    "def deser(s):\n",
    "    s = bytes.fromhex(s)\n",
    "    assert len(s) == 33\n",
    "    sign = int(s[0])\n",
    "    assert sign in (0,1)\n",
    "    x = uint256_from_str(s[1:])\n",
    "    assert 0 <= x < q\n",
    "    # Note: this checks that X is the coordinate of a valid point\n",
    "    point = solve(Fq(x)) \n",
    "    if sign: point.y = -point.y\n",
    "    return point"
   ]
  },
  {
   "cell_type": "markdown",
   "metadata": {},
   "source": [
    "## Generate a random point on the curve"
   ]
  },
  {
   "cell_type": "code",
   "execution_count": null,
   "metadata": {},
   "outputs": [],
   "source": [
    "import os\n",
    "def make_random_point(rnd_bytes=os.urandom):\n",
    "    # 32-byte string for x coordinate\n",
    "    while True:\n",
    "        # Not all x values are valid, find out by rejection sampling\n",
    "        x = uint256_from_str(rnd_bytes(32))\n",
    "        try: point = solve(Fq(x))\n",
    "        except ValueError: continue\n",
    "        break\n",
    "\n",
    "    # Generate a random bit whether to flip the Y coordinate\n",
    "    if ord(rnd_bytes(1)) % 2 == 0:\n",
    "        point.y = -point.y\n",
    "    return point"
   ]
  },
  {
   "cell_type": "markdown",
   "metadata": {},
   "source": [
    "## Experiments\n",
    "\n",
    "Play around with the following. Convince yourself that\n",
    "secp256k1 is a group."
   ]
  },
  {
   "cell_type": "code",
   "execution_count": null,
   "metadata": {},
   "outputs": [],
   "source": [
    "A = make_random_point()\n",
    "B = make_random_point()\n",
    "C = make_random_point()"
   ]
  },
  {
   "cell_type": "markdown",
   "metadata": {},
   "source": [
    "# identity element behaves correctly"
   ]
  },
  {
   "cell_type": "code",
   "execution_count": null,
   "metadata": {},
   "outputs": [],
   "source": [
    "assert identity + A == A == A + identity\n",
    "assert identity + B == B == B + identity\n",
    "assert identity + C == C == C + identity"
   ]
  },
  {
   "cell_type": "markdown",
   "metadata": {},
   "source": [
    "# Associativity"
   ]
  },
  {
   "cell_type": "code",
   "execution_count": null,
   "metadata": {},
   "outputs": [],
   "source": [
    "assert A + (B + C) == (A + B) + C"
   ]
  },
  {
   "cell_type": "markdown",
   "metadata": {},
   "source": [
    "# We can compute inverses"
   ]
  },
  {
   "cell_type": "code",
   "execution_count": null,
   "metadata": {},
   "outputs": [],
   "source": [
    "assert (-A) + A == identity\n",
    "assert (-B) + B == identity\n",
    "assert (-C) + C == identity"
   ]
  },
  {
   "cell_type": "markdown",
   "metadata": {},
   "source": [
    "# Raising any element to group order results in identity"
   ]
  },
  {
   "cell_type": "code",
   "execution_count": null,
   "metadata": {},
   "outputs": [],
   "source": [
    "assert A * order == identity"
   ]
  },
  {
   "cell_type": "markdown",
   "metadata": {},
   "source": [
    "## How to implement exponentiation (actually scalar multiplication)"
   ]
  },
  {
   "cell_type": "markdown",
   "metadata": {},
   "source": [
    "(see Goldwasser and Bellare, page 258)"
   ]
  },
  {
   "cell_type": "code",
   "execution_count": null,
   "metadata": {},
   "outputs": [],
   "source": [
    "def mult(m, A):\n",
    "    assert type(m) in (int, int)\n",
    "    assert type(A) is Point\n",
    "    X = {}\n",
    "    X[0] = A\n",
    "    y = identity\n",
    "    i = 0\n",
    "    while m > 0:\n",
    "        if m % 2 == 1:\n",
    "            y += X[i] # Group operation (point addition)\n",
    "        X[i+1] = X[i] + X[i] \n",
    "        i += 1\n",
    "        m = m//2 # Divide (dropping the least significant bit)\n",
    "        if m == 0: return y"
   ]
  },
  {
   "cell_type": "markdown",
   "metadata": {},
   "source": [
    "# Test multiplication"
   ]
  },
  {
   "cell_type": "code",
   "execution_count": null,
   "metadata": {},
   "outputs": [],
   "source": [
    "assert 5 * G == mult(5, G)\n",
    "\n",
    "def precompute_table(m, A):\n",
    "    # TODO, if you like\n",
    "    pass\n",
    "\n",
    "def mult_precompute(m, A, pow2table=None):\n",
    "    # TODO, if you like\n",
    "    pass"
   ]
  },
  {
   "cell_type": "markdown",
   "metadata": {},
   "source": [
    "## Plot points"
   ]
  },
  {
   "cell_type": "code",
   "execution_count": null,
   "metadata": {},
   "outputs": [],
   "source": [
    "def plot_point(p, *args, **kwargs):\n",
    "    assert type(p) is Point\n",
    "    assert p != identity\n",
    "    plt.plot(float(p.x.n), float(p.y.n), *args, **kwargs)\n",
    "\n",
    "try:\n",
    "    #raise Exception(\"skipping drawings\")\n",
    "    import matplotlib.pyplot as plt\n",
    "    plt.ion()\n",
    "except:\n",
    "    #print(\"Skipping drawings\")\n",
    "    pass\n",
    "else:\n",
    "    plt.figure(1);\n",
    "    plt.clf();\n",
    "    plt.xlim(0,float(p))\n",
    "    plt.ylim(0,float(p))\n",
    "    plot_point(G,  marker='o', label='G')\n",
    "    for i in range(2,10):\n",
    "        plot_point(i*G, marker='o', label='%d*G'%i)\n",
    "    plt.legend()\n",
    "    plt.ylabel('X coordinate [0,q]')\n",
    "    plt.ylabel('Y coordinate [0,q]')"
   ]
  }
 ],
 "metadata": {},
 "nbformat": 4,
 "nbformat_minor": 2
}
